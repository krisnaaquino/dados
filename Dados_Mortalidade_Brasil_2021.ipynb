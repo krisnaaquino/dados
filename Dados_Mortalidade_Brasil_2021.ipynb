{
  "cells": [
    {
      "cell_type": "markdown",
      "metadata": {
        "id": "view-in-github",
        "colab_type": "text"
      },
      "source": [
        "<a href=\"https://colab.research.google.com/github/krisnaaquino/dados/blob/main/Dados_Mortalidade_Brasil_2021.ipynb\" target=\"_parent\"><img src=\"https://colab.research.google.com/assets/colab-badge.svg\" alt=\"Open In Colab\"/></a>"
      ]
    },
    {
      "cell_type": "markdown",
      "metadata": {
        "id": "czXN2iogaGoi"
      },
      "source": [
        "## Dados \n",
        "*  https://s3.sa-east-1.amazonaws.com/ckan.saude.gov.br/SIM/DO22OPEN.csv \n",
        "\n",
        "Dicionário de dados:\n",
        "https://diaad.s3.sa-east-1.amazonaws.com/sim/Mortalidade_Geral+-+Estrutura.pdf"
      ]
    },
    {
      "cell_type": "code",
      "execution_count": 1,
      "metadata": {
        "colab": {
          "base_uri": "https://localhost:8080/",
          "height": 272
        },
        "id": "IGvUuOLDZ6vi",
        "outputId": "e6e22eca-73e4-4eca-8907-8f34528fbca0"
      },
      "outputs": [
        {
          "output_type": "stream",
          "name": "stderr",
          "text": [
            "<ipython-input-1-f82d27c23f34>:3: DtypeWarning: Columns (66) have mixed types. Specify dtype option on import or set low_memory=False.\n",
            "  dados = pd.read_csv(\"https://s3.sa-east-1.amazonaws.com/ckan.saude.gov.br/SIM/DO22OPEN.csv\",  sep=\";\")\n"
          ]
        },
        {
          "output_type": "execute_result",
          "data": {
            "text/plain": [
              "   contador  contador.1  ORIGEM  TIPOBITO   DTOBITO  HORAOBITO  NATURAL  \\\n",
              "0         1           1       1         2  13012022     1330.0    841.0   \n",
              "1         2           2       1         2  15012022     1258.0    829.0   \n",
              "2         3           3       1         2  15012022     1800.0    829.0   \n",
              "3         4           4       1         2  16012022      550.0    825.0   \n",
              "4         5           5       1         2  16012022     1440.0    852.0   \n",
              "\n",
              "   CODMUNNATU      DTNASC  IDADE  ...  TPRESGINFO  TPNIVELINV  DTCADINF  \\\n",
              "0    411370.0   2111950.0  471.0  ...         NaN         NaN       NaN   \n",
              "1    293280.0   8011961.0  461.0  ...         NaN         NaN       NaN   \n",
              "2    292210.0  22021939.0  482.0  ...         NaN         NaN       NaN   \n",
              "3    250070.0  15071955.0  466.0  ...         NaN         NaN       NaN   \n",
              "4    520870.0  25041955.0  466.0  ...         NaN         NaN       NaN   \n",
              "\n",
              "   MORTEPARTO  DTCONCASO  ALTCAUSA  CAUSABAS_O  TPPOS  TP_ALTERA  CB_ALT  \n",
              "0         NaN        NaN       NaN        E140      N        NaN     NaN  \n",
              "1         NaN        NaN       NaN        K721      N        NaN     NaN  \n",
              "2         NaN        NaN       NaN        C249      N        NaN     NaN  \n",
              "3         NaN        NaN       NaN        K729      N        NaN     NaN  \n",
              "4         NaN        NaN       NaN         A46      N        NaN     NaN  \n",
              "\n",
              "[5 rows x 87 columns]"
            ],
            "text/html": [
              "\n",
              "  <div id=\"df-162901c3-69c6-46a8-a7a0-d453574c22a1\">\n",
              "    <div class=\"colab-df-container\">\n",
              "      <div>\n",
              "<style scoped>\n",
              "    .dataframe tbody tr th:only-of-type {\n",
              "        vertical-align: middle;\n",
              "    }\n",
              "\n",
              "    .dataframe tbody tr th {\n",
              "        vertical-align: top;\n",
              "    }\n",
              "\n",
              "    .dataframe thead th {\n",
              "        text-align: right;\n",
              "    }\n",
              "</style>\n",
              "<table border=\"1\" class=\"dataframe\">\n",
              "  <thead>\n",
              "    <tr style=\"text-align: right;\">\n",
              "      <th></th>\n",
              "      <th>contador</th>\n",
              "      <th>contador.1</th>\n",
              "      <th>ORIGEM</th>\n",
              "      <th>TIPOBITO</th>\n",
              "      <th>DTOBITO</th>\n",
              "      <th>HORAOBITO</th>\n",
              "      <th>NATURAL</th>\n",
              "      <th>CODMUNNATU</th>\n",
              "      <th>DTNASC</th>\n",
              "      <th>IDADE</th>\n",
              "      <th>...</th>\n",
              "      <th>TPRESGINFO</th>\n",
              "      <th>TPNIVELINV</th>\n",
              "      <th>DTCADINF</th>\n",
              "      <th>MORTEPARTO</th>\n",
              "      <th>DTCONCASO</th>\n",
              "      <th>ALTCAUSA</th>\n",
              "      <th>CAUSABAS_O</th>\n",
              "      <th>TPPOS</th>\n",
              "      <th>TP_ALTERA</th>\n",
              "      <th>CB_ALT</th>\n",
              "    </tr>\n",
              "  </thead>\n",
              "  <tbody>\n",
              "    <tr>\n",
              "      <th>0</th>\n",
              "      <td>1</td>\n",
              "      <td>1</td>\n",
              "      <td>1</td>\n",
              "      <td>2</td>\n",
              "      <td>13012022</td>\n",
              "      <td>1330.0</td>\n",
              "      <td>841.0</td>\n",
              "      <td>411370.0</td>\n",
              "      <td>2111950.0</td>\n",
              "      <td>471.0</td>\n",
              "      <td>...</td>\n",
              "      <td>NaN</td>\n",
              "      <td>NaN</td>\n",
              "      <td>NaN</td>\n",
              "      <td>NaN</td>\n",
              "      <td>NaN</td>\n",
              "      <td>NaN</td>\n",
              "      <td>E140</td>\n",
              "      <td>N</td>\n",
              "      <td>NaN</td>\n",
              "      <td>NaN</td>\n",
              "    </tr>\n",
              "    <tr>\n",
              "      <th>1</th>\n",
              "      <td>2</td>\n",
              "      <td>2</td>\n",
              "      <td>1</td>\n",
              "      <td>2</td>\n",
              "      <td>15012022</td>\n",
              "      <td>1258.0</td>\n",
              "      <td>829.0</td>\n",
              "      <td>293280.0</td>\n",
              "      <td>8011961.0</td>\n",
              "      <td>461.0</td>\n",
              "      <td>...</td>\n",
              "      <td>NaN</td>\n",
              "      <td>NaN</td>\n",
              "      <td>NaN</td>\n",
              "      <td>NaN</td>\n",
              "      <td>NaN</td>\n",
              "      <td>NaN</td>\n",
              "      <td>K721</td>\n",
              "      <td>N</td>\n",
              "      <td>NaN</td>\n",
              "      <td>NaN</td>\n",
              "    </tr>\n",
              "    <tr>\n",
              "      <th>2</th>\n",
              "      <td>3</td>\n",
              "      <td>3</td>\n",
              "      <td>1</td>\n",
              "      <td>2</td>\n",
              "      <td>15012022</td>\n",
              "      <td>1800.0</td>\n",
              "      <td>829.0</td>\n",
              "      <td>292210.0</td>\n",
              "      <td>22021939.0</td>\n",
              "      <td>482.0</td>\n",
              "      <td>...</td>\n",
              "      <td>NaN</td>\n",
              "      <td>NaN</td>\n",
              "      <td>NaN</td>\n",
              "      <td>NaN</td>\n",
              "      <td>NaN</td>\n",
              "      <td>NaN</td>\n",
              "      <td>C249</td>\n",
              "      <td>N</td>\n",
              "      <td>NaN</td>\n",
              "      <td>NaN</td>\n",
              "    </tr>\n",
              "    <tr>\n",
              "      <th>3</th>\n",
              "      <td>4</td>\n",
              "      <td>4</td>\n",
              "      <td>1</td>\n",
              "      <td>2</td>\n",
              "      <td>16012022</td>\n",
              "      <td>550.0</td>\n",
              "      <td>825.0</td>\n",
              "      <td>250070.0</td>\n",
              "      <td>15071955.0</td>\n",
              "      <td>466.0</td>\n",
              "      <td>...</td>\n",
              "      <td>NaN</td>\n",
              "      <td>NaN</td>\n",
              "      <td>NaN</td>\n",
              "      <td>NaN</td>\n",
              "      <td>NaN</td>\n",
              "      <td>NaN</td>\n",
              "      <td>K729</td>\n",
              "      <td>N</td>\n",
              "      <td>NaN</td>\n",
              "      <td>NaN</td>\n",
              "    </tr>\n",
              "    <tr>\n",
              "      <th>4</th>\n",
              "      <td>5</td>\n",
              "      <td>5</td>\n",
              "      <td>1</td>\n",
              "      <td>2</td>\n",
              "      <td>16012022</td>\n",
              "      <td>1440.0</td>\n",
              "      <td>852.0</td>\n",
              "      <td>520870.0</td>\n",
              "      <td>25041955.0</td>\n",
              "      <td>466.0</td>\n",
              "      <td>...</td>\n",
              "      <td>NaN</td>\n",
              "      <td>NaN</td>\n",
              "      <td>NaN</td>\n",
              "      <td>NaN</td>\n",
              "      <td>NaN</td>\n",
              "      <td>NaN</td>\n",
              "      <td>A46</td>\n",
              "      <td>N</td>\n",
              "      <td>NaN</td>\n",
              "      <td>NaN</td>\n",
              "    </tr>\n",
              "  </tbody>\n",
              "</table>\n",
              "<p>5 rows × 87 columns</p>\n",
              "</div>\n",
              "      <button class=\"colab-df-convert\" onclick=\"convertToInteractive('df-162901c3-69c6-46a8-a7a0-d453574c22a1')\"\n",
              "              title=\"Convert this dataframe to an interactive table.\"\n",
              "              style=\"display:none;\">\n",
              "        \n",
              "  <svg xmlns=\"http://www.w3.org/2000/svg\" height=\"24px\"viewBox=\"0 0 24 24\"\n",
              "       width=\"24px\">\n",
              "    <path d=\"M0 0h24v24H0V0z\" fill=\"none\"/>\n",
              "    <path d=\"M18.56 5.44l.94 2.06.94-2.06 2.06-.94-2.06-.94-.94-2.06-.94 2.06-2.06.94zm-11 1L8.5 8.5l.94-2.06 2.06-.94-2.06-.94L8.5 2.5l-.94 2.06-2.06.94zm10 10l.94 2.06.94-2.06 2.06-.94-2.06-.94-.94-2.06-.94 2.06-2.06.94z\"/><path d=\"M17.41 7.96l-1.37-1.37c-.4-.4-.92-.59-1.43-.59-.52 0-1.04.2-1.43.59L10.3 9.45l-7.72 7.72c-.78.78-.78 2.05 0 2.83L4 21.41c.39.39.9.59 1.41.59.51 0 1.02-.2 1.41-.59l7.78-7.78 2.81-2.81c.8-.78.8-2.07 0-2.86zM5.41 20L4 18.59l7.72-7.72 1.47 1.35L5.41 20z\"/>\n",
              "  </svg>\n",
              "      </button>\n",
              "      \n",
              "  <style>\n",
              "    .colab-df-container {\n",
              "      display:flex;\n",
              "      flex-wrap:wrap;\n",
              "      gap: 12px;\n",
              "    }\n",
              "\n",
              "    .colab-df-convert {\n",
              "      background-color: #E8F0FE;\n",
              "      border: none;\n",
              "      border-radius: 50%;\n",
              "      cursor: pointer;\n",
              "      display: none;\n",
              "      fill: #1967D2;\n",
              "      height: 32px;\n",
              "      padding: 0 0 0 0;\n",
              "      width: 32px;\n",
              "    }\n",
              "\n",
              "    .colab-df-convert:hover {\n",
              "      background-color: #E2EBFA;\n",
              "      box-shadow: 0px 1px 2px rgba(60, 64, 67, 0.3), 0px 1px 3px 1px rgba(60, 64, 67, 0.15);\n",
              "      fill: #174EA6;\n",
              "    }\n",
              "\n",
              "    [theme=dark] .colab-df-convert {\n",
              "      background-color: #3B4455;\n",
              "      fill: #D2E3FC;\n",
              "    }\n",
              "\n",
              "    [theme=dark] .colab-df-convert:hover {\n",
              "      background-color: #434B5C;\n",
              "      box-shadow: 0px 1px 3px 1px rgba(0, 0, 0, 0.15);\n",
              "      filter: drop-shadow(0px 1px 2px rgba(0, 0, 0, 0.3));\n",
              "      fill: #FFFFFF;\n",
              "    }\n",
              "  </style>\n",
              "\n",
              "      <script>\n",
              "        const buttonEl =\n",
              "          document.querySelector('#df-162901c3-69c6-46a8-a7a0-d453574c22a1 button.colab-df-convert');\n",
              "        buttonEl.style.display =\n",
              "          google.colab.kernel.accessAllowed ? 'block' : 'none';\n",
              "\n",
              "        async function convertToInteractive(key) {\n",
              "          const element = document.querySelector('#df-162901c3-69c6-46a8-a7a0-d453574c22a1');\n",
              "          const dataTable =\n",
              "            await google.colab.kernel.invokeFunction('convertToInteractive',\n",
              "                                                     [key], {});\n",
              "          if (!dataTable) return;\n",
              "\n",
              "          const docLinkHtml = 'Like what you see? Visit the ' +\n",
              "            '<a target=\"_blank\" href=https://colab.research.google.com/notebooks/data_table.ipynb>data table notebook</a>'\n",
              "            + ' to learn more about interactive tables.';\n",
              "          element.innerHTML = '';\n",
              "          dataTable['output_type'] = 'display_data';\n",
              "          await google.colab.output.renderOutput(dataTable, element);\n",
              "          const docLink = document.createElement('div');\n",
              "          docLink.innerHTML = docLinkHtml;\n",
              "          element.appendChild(docLink);\n",
              "        }\n",
              "      </script>\n",
              "    </div>\n",
              "  </div>\n",
              "  "
            ]
          },
          "metadata": {},
          "execution_count": 1
        }
      ],
      "source": [
        "import pandas as pd \n",
        "\n",
        "dados = pd.read_csv(\"https://s3.sa-east-1.amazonaws.com/ckan.saude.gov.br/SIM/DO22OPEN.csv\",  sep=\";\")\n",
        "\n",
        "dados.head() "
      ]
    },
    {
      "cell_type": "code",
      "execution_count": null,
      "metadata": {
        "colab": {
          "base_uri": "https://localhost:8080/"
        },
        "id": "IoXlcP4Xaf4c",
        "outputId": "f09d476a-3981-4f9a-9693-7252b5866883"
      },
      "outputs": [
        {
          "data": {
            "text/plain": [
              "<bound method NDFrame.describe of          contador  contador.1  ORIGEM  TIPOBITO   DTOBITO  HORAOBITO  NATURAL  \\\n",
              "0               1           1       1         2  13012022     1330.0    841.0   \n",
              "1               2           2       1         2  15012022     1258.0    829.0   \n",
              "2               3           3       1         2  15012022     1800.0    829.0   \n",
              "3               4           4       1         2  16012022      550.0    825.0   \n",
              "4               5           5       1         2  16012022     1440.0    852.0   \n",
              "...           ...         ...     ...       ...       ...        ...      ...   \n",
              "1507097   1507098     1507098       1         2  25102022     1930.0    815.0   \n",
              "1507098   1507099     1507099       1         2  29102022     1440.0    813.0   \n",
              "1507099   1507100     1507100       1         2   3112022     1030.0    813.0   \n",
              "1507100   1507101     1507101       1         2  10112022     1400.0    815.0   \n",
              "1507101   1507102     1507102       1         2  16112022        NaN    812.0   \n",
              "\n",
              "         CODMUNNATU      DTNASC  IDADE  ...  TPRESGINFO  TPNIVELINV  DTCADINF  \\\n",
              "0          411370.0   2111950.0  471.0  ...         NaN         NaN       NaN   \n",
              "1          293280.0   8011961.0  461.0  ...         NaN         NaN       NaN   \n",
              "2          292210.0  22021939.0  482.0  ...         NaN         NaN       NaN   \n",
              "3          250070.0  15071955.0  466.0  ...         NaN         NaN       NaN   \n",
              "4          520870.0  25041955.0  466.0  ...         NaN         NaN       NaN   \n",
              "...             ...         ...    ...  ...         ...         ...       ...   \n",
              "1507097    150276.0  25121972.0  449.0  ...         NaN           E       NaN   \n",
              "1507098    130080.0  19101974.0  448.0  ...         NaN         NaN       NaN   \n",
              "1507099    130410.0   4011930.0  492.0  ...         NaN         NaN       NaN   \n",
              "1507100    150510.0  28022022.0  308.0  ...         NaN         NaN       NaN   \n",
              "1507101    120034.0  30052003.0  419.0  ...         NaN         NaN       NaN   \n",
              "\n",
              "         MORTEPARTO  DTCONCASO  ALTCAUSA  CAUSABAS_O  TPPOS  TP_ALTERA  CB_ALT  \n",
              "0               NaN        NaN       NaN        E140      N        NaN     NaN  \n",
              "1               NaN        NaN       NaN        K721      N        NaN     NaN  \n",
              "2               NaN        NaN       NaN        C249      N        NaN     NaN  \n",
              "3               NaN        NaN       NaN        K729      N        NaN     NaN  \n",
              "4               NaN        NaN       NaN         A46      N        NaN     NaN  \n",
              "...             ...        ...       ...         ...    ...        ...     ...  \n",
              "1507097         NaN        NaN       NaN         NaN    NaN        NaN     NaN  \n",
              "1507098         NaN        NaN       NaN         NaN    NaN        NaN     NaN  \n",
              "1507099         NaN        NaN       NaN         NaN    NaN        NaN     NaN  \n",
              "1507100         NaN        NaN       NaN         NaN    NaN        NaN     NaN  \n",
              "1507101         NaN        NaN       NaN         NaN    NaN        NaN     NaN  \n",
              "\n",
              "[1507102 rows x 87 columns]>"
            ]
          },
          "execution_count": 22,
          "metadata": {},
          "output_type": "execute_result"
        }
      ],
      "source": [
        "dados.describe "
      ]
    },
    {
      "cell_type": "code",
      "execution_count": null,
      "metadata": {
        "colab": {
          "base_uri": "https://localhost:8080/"
        },
        "id": "hL55Vpc7fmZq",
        "outputId": "f594fe8d-2976-4d11-d730-ef4858b23e07"
      },
      "outputs": [
        {
          "data": {
            "text/plain": [
              "(1507102, 87)"
            ]
          },
          "execution_count": 23,
          "metadata": {},
          "output_type": "execute_result"
        }
      ],
      "source": [
        "dados.shape"
      ]
    },
    {
      "cell_type": "code",
      "execution_count": null,
      "metadata": {
        "colab": {
          "base_uri": "https://localhost:8080/"
        },
        "id": "CEsBMc6kgAB9",
        "outputId": "9b349e21-0ef9-463f-f9b8-5c654a6185b7"
      },
      "outputs": [
        {
          "data": {
            "text/plain": [
              "contador        int64\n",
              "contador.1      int64\n",
              "ORIGEM          int64\n",
              "TIPOBITO        int64\n",
              "DTOBITO         int64\n",
              "               ...   \n",
              "ALTCAUSA      float64\n",
              "CAUSABAS_O     object\n",
              "TPPOS          object\n",
              "TP_ALTERA     float64\n",
              "CB_ALT         object\n",
              "Length: 87, dtype: object"
            ]
          },
          "execution_count": 24,
          "metadata": {},
          "output_type": "execute_result"
        }
      ],
      "source": [
        "dados.dtypes"
      ]
    },
    {
      "cell_type": "markdown",
      "metadata": {
        "id": "pS9QRRvLf_r_"
      },
      "source": []
    },
    {
      "cell_type": "code",
      "execution_count": null,
      "metadata": {
        "colab": {
          "base_uri": "https://localhost:8080/"
        },
        "id": "pe2kA_TV_iYv",
        "outputId": "7a784e4d-a65e-4404-ef0d-0d83f4d2109f"
      },
      "outputs": [
        {
          "data": {
            "text/plain": [
              "Index(['contador', 'contador.1', 'ORIGEM', 'TIPOBITO', 'DTOBITO', 'HORAOBITO',\n",
              "       'NATURAL', 'CODMUNNATU', 'DTNASC', 'IDADE', 'SEXO', 'RACACOR', 'ESTCIV',\n",
              "       'ESC', 'ESC2010', 'SERIESCFAL', 'OCUP', 'CODMUNRES', 'LOCOCOR',\n",
              "       'CODESTAB', 'CODMUNOCOR', 'IDADEMAE', 'ESCMAE', 'ESCMAE2010',\n",
              "       'SERIESCMAE', 'OCUPMAE', 'QTDFILVIVO', 'QTDFILMORT', 'GRAVIDEZ',\n",
              "       'SEMAGESTAC', 'GESTACAO', 'PARTO', 'OBITOPARTO', 'PESO', 'TPMORTEOCO',\n",
              "       'OBITOGRAV', 'OBITOPUERP', 'ASSISTMED', 'EXAME', 'CIRURGIA',\n",
              "       'NECROPSIA', 'LINHAA', 'LINHAB', 'LINHAC', 'LINHAD', 'LINHAII',\n",
              "       'CAUSABAS', 'CB_PRE', 'COMUNSVOIM', 'DTATESTADO', 'CIRCOBITO',\n",
              "       'ACIDTRAB', 'FONTE', 'NUMEROLOTE', 'DTINVESTIG', 'DTCADASTRO',\n",
              "       'ATESTANTE', 'STCODIFICA', 'CODIFICADO', 'VERSAOSIST', 'VERSAOSCB',\n",
              "       'FONTEINV', 'DTRECEBIM', 'ATESTADO', 'DTRECORIGA', 'OPOR_DO',\n",
              "       'CAUSAMAT', 'ESCMAEAGR1', 'ESCFALAGR1', 'STDOEPIDEM', 'STDONOVA',\n",
              "       'DIFDATA', 'NUDIASOBCO', 'DTCADINV', 'TPOBITOCOR', 'DTCONINV', 'FONTES',\n",
              "       'TPRESGINFO', 'TPNIVELINV', 'DTCADINF', 'MORTEPARTO', 'DTCONCASO',\n",
              "       'ALTCAUSA', 'CAUSABAS_O', 'TPPOS', 'TP_ALTERA', 'CB_ALT'],\n",
              "      dtype='object')"
            ]
          },
          "execution_count": 8,
          "metadata": {},
          "output_type": "execute_result"
        }
      ],
      "source": [
        "dados.columns"
      ]
    },
    {
      "cell_type": "code",
      "execution_count": null,
      "metadata": {
        "colab": {
          "base_uri": "https://localhost:8080/"
        },
        "id": "6XN7Yxzrck-w",
        "outputId": "4318dd35-ca36-4973-96f7-4ab89a5c22d6"
      },
      "outputs": [
        {
          "data": {
            "text/plain": [
              "1    0.545433\n",
              "2    0.453641\n",
              "0    0.000926\n",
              "Name: SEXO, dtype: float64"
            ]
          },
          "execution_count": 25,
          "metadata": {},
          "output_type": "execute_result"
        }
      ],
      "source": [
        "\n",
        "dados.SEXO.value_counts(normalize=True)"
      ]
    },
    {
      "cell_type": "code",
      "execution_count": null,
      "metadata": {
        "colab": {
          "base_uri": "https://localhost:8080/",
          "height": 443
        },
        "id": "4UieThJSexU-",
        "outputId": "c240e031-cc73-4ef0-f61d-3f6e41064efb"
      },
      "outputs": [
        {
          "data": {
            "text/plain": [
              "<Axes: >"
            ]
          },
          "execution_count": 26,
          "metadata": {},
          "output_type": "execute_result"
        },
        {
          "data": {
            "image/png": "[encoded data removed]",
            "text/plain": [
              "<Figure size 640x480 with 1 Axes>"
            ]
          },
          "metadata": {},
          "output_type": "display_data"
        }
      ],
      "source": [
        "dados.SEXO.value_counts(normalize=True).plot(kind='bar')"
      ]
    },
    {
      "cell_type": "code",
      "source": [
        "dados.RACACOR.value_counts(normalize=True)"
      ],
      "metadata": {
        "colab": {
          "base_uri": "https://localhost:8080/"
        },
        "id": "0tPZ58fO_dc4",
        "outputId": "4d5d66e0-883a-44f0-db3a-32b77cb940f2"
      },
      "execution_count": 2,
      "outputs": [
        {
          "output_type": "execute_result",
          "data": {
            "text/plain": [
              "1.0    0.521919\n",
              "4.0    0.382740\n",
              "2.0    0.085920\n",
              "3.0    0.006164\n",
              "5.0    0.003257\n",
              "Name: RACACOR, dtype: float64"
            ]
          },
          "metadata": {},
          "execution_count": 2
        }
      ]
    },
    {
      "cell_type": "code",
      "source": [
        "dados.RACACOR.value_counts(normalize=True).plot(kind='bar', color='green')"
      ],
      "metadata": {
        "colab": {
          "base_uri": "https://localhost:8080/",
          "height": 456
        },
        "id": "hpUcRidC_dSx",
        "outputId": "15b912c9-0081-4f04-ce8d-7fa9132f5129"
      },
      "execution_count": 5,
      "outputs": [
        {
          "output_type": "execute_result",
          "data": {
            "text/plain": [
              "<Axes: >"
            ]
          },
          "metadata": {},
          "execution_count": 5
        },
        {
          "output_type": "display_data",
          "data": {
            "text/plain": [
              "<Figure size 640x480 with 1 Axes>"
            ],
            "image/png": "[encoded data removed]"
          },
          "metadata": {}
        }
      ]
    },
    {
      "cell_type": "code",
      "execution_count": null,
      "metadata": {
        "id": "wqeddDqQAUPv"
      },
      "outputs": [],
      "source": [
        "# Seleciona apenas os 1000 primeiros dados \n",
        "dados_reduz = dados[0:1000]"
      ]
    },
    {
      "cell_type": "code",
      "execution_count": null,
      "metadata": {
        "id": "f9dvCZguMyIF"
      },
      "outputs": [],
      "source": [
        "dados_reduz=dados_reduz.loc[0:1000,['ATESTADO', 'ESC','OCUP','RACACOR','SEXO','IDADE']]"
      ]
    },
    {
      "cell_type": "code",
      "execution_count": null,
      "metadata": {
        "colab": {
          "base_uri": "https://localhost:8080/"
        },
        "id": "NA0IJI8mSsps",
        "outputId": "cb996296-ea1f-40bb-8b39-d1916f9e5ae6"
      },
      "outputs": [
        {
          "data": {
            "text/plain": [
              "ATESTADO       bool\n",
              "ESC         float64\n",
              "OCUP        float64\n",
              "RACACOR     float64\n",
              "SEXO          int64\n",
              "IDADE       float64\n",
              "dtype: object"
            ]
          },
          "execution_count": 38,
          "metadata": {},
          "output_type": "execute_result"
        }
      ],
      "source": [
        "dados_reduz.dtypes"
      ]
    },
    {
      "cell_type": "code",
      "execution_count": null,
      "metadata": {
        "colab": {
          "base_uri": "https://localhost:8080/",
          "height": 325
        },
        "id": "SzjrseLFMzG1",
        "outputId": "d5d9b947-8823-4d5c-b9b5-132d7cf8580b"
      },
      "outputs": [
        {
          "ename": "AttributeError",
          "evalue": "ignored",
          "output_type": "error",
          "traceback": [
            "\u001b[0;31m---------------------------------------------------------------------------\u001b[0m",
            "\u001b[0;31mAttributeError\u001b[0m                            Traceback (most recent call last)",
            "\u001b[0;32m<ipython-input-41-d4fe35bb70c4>\u001b[0m in \u001b[0;36m<cell line: 1>\u001b[0;34m()\u001b[0m\n\u001b[0;32m----> 1\u001b[0;31m \u001b[0mdados_reduz\u001b[0m\u001b[0;34m[\u001b[0m\u001b[0;34m'ATESTADO'\u001b[0m\u001b[0;34m]\u001b[0m\u001b[0;34m=\u001b[0m  \u001b[0mdados_reduz\u001b[0m\u001b[0;34m[\u001b[0m\u001b[0;34m'ATESTADO'\u001b[0m\u001b[0;34m]\u001b[0m\u001b[0;34m.\u001b[0m\u001b[0mstr\u001b[0m\u001b[0;34m.\u001b[0m\u001b[0mcontains\u001b[0m\u001b[0;34m(\u001b[0m\u001b[0;34m'B34'\u001b[0m\u001b[0;34m,\u001b[0m \u001b[0mna\u001b[0m\u001b[0;34m=\u001b[0m\u001b[0;32mFalse\u001b[0m\u001b[0;34m,\u001b[0m \u001b[0mregex\u001b[0m\u001b[0;34m=\u001b[0m\u001b[0;32mTrue\u001b[0m\u001b[0;34m)\u001b[0m\u001b[0;34m\u001b[0m\u001b[0;34m\u001b[0m\u001b[0m\n\u001b[0m",
            "\u001b[0;32m/usr/local/lib/python3.9/dist-packages/pandas/core/generic.py\u001b[0m in \u001b[0;36m__getattr__\u001b[0;34m(self, name)\u001b[0m\n\u001b[1;32m   5900\u001b[0m         ):\n\u001b[1;32m   5901\u001b[0m             \u001b[0;32mreturn\u001b[0m \u001b[0mself\u001b[0m\u001b[0;34m[\u001b[0m\u001b[0mname\u001b[0m\u001b[0;34m]\u001b[0m\u001b[0;34m\u001b[0m\u001b[0;34m\u001b[0m\u001b[0m\n\u001b[0;32m-> 5902\u001b[0;31m         \u001b[0;32mreturn\u001b[0m \u001b[0mobject\u001b[0m\u001b[0;34m.\u001b[0m\u001b[0m__getattribute__\u001b[0m\u001b[0;34m(\u001b[0m\u001b[0mself\u001b[0m\u001b[0;34m,\u001b[0m \u001b[0mname\u001b[0m\u001b[0;34m)\u001b[0m\u001b[0;34m\u001b[0m\u001b[0;34m\u001b[0m\u001b[0m\n\u001b[0m\u001b[1;32m   5903\u001b[0m \u001b[0;34m\u001b[0m\u001b[0m\n\u001b[1;32m   5904\u001b[0m     \u001b[0;32mdef\u001b[0m \u001b[0m__setattr__\u001b[0m\u001b[0;34m(\u001b[0m\u001b[0mself\u001b[0m\u001b[0;34m,\u001b[0m \u001b[0mname\u001b[0m\u001b[0;34m:\u001b[0m \u001b[0mstr\u001b[0m\u001b[0;34m,\u001b[0m \u001b[0mvalue\u001b[0m\u001b[0;34m)\u001b[0m \u001b[0;34m->\u001b[0m \u001b[0;32mNone\u001b[0m\u001b[0;34m:\u001b[0m\u001b[0;34m\u001b[0m\u001b[0;34m\u001b[0m\u001b[0m\n",
            "\u001b[0;32m/usr/local/lib/python3.9/dist-packages/pandas/core/accessor.py\u001b[0m in \u001b[0;36m__get__\u001b[0;34m(self, obj, cls)\u001b[0m\n\u001b[1;32m    180\u001b[0m             \u001b[0;31m# we're accessing the attribute of the class, i.e., Dataset.geo\u001b[0m\u001b[0;34m\u001b[0m\u001b[0;34m\u001b[0m\u001b[0m\n\u001b[1;32m    181\u001b[0m             \u001b[0;32mreturn\u001b[0m \u001b[0mself\u001b[0m\u001b[0;34m.\u001b[0m\u001b[0m_accessor\u001b[0m\u001b[0;34m\u001b[0m\u001b[0;34m\u001b[0m\u001b[0m\n\u001b[0;32m--> 182\u001b[0;31m         \u001b[0maccessor_obj\u001b[0m \u001b[0;34m=\u001b[0m \u001b[0mself\u001b[0m\u001b[0;34m.\u001b[0m\u001b[0m_accessor\u001b[0m\u001b[0;34m(\u001b[0m\u001b[0mobj\u001b[0m\u001b[0;34m)\u001b[0m\u001b[0;34m\u001b[0m\u001b[0;34m\u001b[0m\u001b[0m\n\u001b[0m\u001b[1;32m    183\u001b[0m         \u001b[0;31m# Replace the property with the accessor object. Inspired by:\u001b[0m\u001b[0;34m\u001b[0m\u001b[0;34m\u001b[0m\u001b[0m\n\u001b[1;32m    184\u001b[0m         \u001b[0;31m# https://www.pydanny.com/cached-property.html\u001b[0m\u001b[0;34m\u001b[0m\u001b[0;34m\u001b[0m\u001b[0m\n",
            "\u001b[0;32m/usr/local/lib/python3.9/dist-packages/pandas/core/strings/accessor.py\u001b[0m in \u001b[0;36m__init__\u001b[0;34m(self, data)\u001b[0m\n\u001b[1;32m    179\u001b[0m         \u001b[0;32mfrom\u001b[0m \u001b[0mpandas\u001b[0m\u001b[0;34m.\u001b[0m\u001b[0mcore\u001b[0m\u001b[0;34m.\u001b[0m\u001b[0marrays\u001b[0m\u001b[0;34m.\u001b[0m\u001b[0mstring_\u001b[0m \u001b[0;32mimport\u001b[0m \u001b[0mStringDtype\u001b[0m\u001b[0;34m\u001b[0m\u001b[0;34m\u001b[0m\u001b[0m\n\u001b[1;32m    180\u001b[0m \u001b[0;34m\u001b[0m\u001b[0m\n\u001b[0;32m--> 181\u001b[0;31m         \u001b[0mself\u001b[0m\u001b[0;34m.\u001b[0m\u001b[0m_inferred_dtype\u001b[0m \u001b[0;34m=\u001b[0m \u001b[0mself\u001b[0m\u001b[0;34m.\u001b[0m\u001b[0m_validate\u001b[0m\u001b[0;34m(\u001b[0m\u001b[0mdata\u001b[0m\u001b[0;34m)\u001b[0m\u001b[0;34m\u001b[0m\u001b[0;34m\u001b[0m\u001b[0m\n\u001b[0m\u001b[1;32m    182\u001b[0m         \u001b[0mself\u001b[0m\u001b[0;34m.\u001b[0m\u001b[0m_is_categorical\u001b[0m \u001b[0;34m=\u001b[0m \u001b[0mis_categorical_dtype\u001b[0m\u001b[0;34m(\u001b[0m\u001b[0mdata\u001b[0m\u001b[0;34m.\u001b[0m\u001b[0mdtype\u001b[0m\u001b[0;34m)\u001b[0m\u001b[0;34m\u001b[0m\u001b[0;34m\u001b[0m\u001b[0m\n\u001b[1;32m    183\u001b[0m         \u001b[0mself\u001b[0m\u001b[0;34m.\u001b[0m\u001b[0m_is_string\u001b[0m \u001b[0;34m=\u001b[0m \u001b[0misinstance\u001b[0m\u001b[0;34m(\u001b[0m\u001b[0mdata\u001b[0m\u001b[0;34m.\u001b[0m\u001b[0mdtype\u001b[0m\u001b[0;34m,\u001b[0m \u001b[0mStringDtype\u001b[0m\u001b[0;34m)\u001b[0m\u001b[0;34m\u001b[0m\u001b[0;34m\u001b[0m\u001b[0m\n",
            "\u001b[0;32m/usr/local/lib/python3.9/dist-packages/pandas/core/strings/accessor.py\u001b[0m in \u001b[0;36m_validate\u001b[0;34m(data)\u001b[0m\n\u001b[1;32m    233\u001b[0m \u001b[0;34m\u001b[0m\u001b[0m\n\u001b[1;32m    234\u001b[0m         \u001b[0;32mif\u001b[0m \u001b[0minferred_dtype\u001b[0m \u001b[0;32mnot\u001b[0m \u001b[0;32min\u001b[0m \u001b[0mallowed_types\u001b[0m\u001b[0;34m:\u001b[0m\u001b[0;34m\u001b[0m\u001b[0;34m\u001b[0m\u001b[0m\n\u001b[0;32m--> 235\u001b[0;31m             \u001b[0;32mraise\u001b[0m \u001b[0mAttributeError\u001b[0m\u001b[0;34m(\u001b[0m\u001b[0;34m\"Can only use .str accessor with string values!\"\u001b[0m\u001b[0;34m)\u001b[0m\u001b[0;34m\u001b[0m\u001b[0;34m\u001b[0m\u001b[0m\n\u001b[0m\u001b[1;32m    236\u001b[0m         \u001b[0;32mreturn\u001b[0m \u001b[0minferred_dtype\u001b[0m\u001b[0;34m\u001b[0m\u001b[0;34m\u001b[0m\u001b[0m\n\u001b[1;32m    237\u001b[0m \u001b[0;34m\u001b[0m\u001b[0m\n",
            "\u001b[0;31mAttributeError\u001b[0m: Can only use .str accessor with string values!"
          ]
        }
      ],
      "source": [
        "dados_reduz['ATESTADO']=  dados_reduz['ATESTADO'].str.contains('B34', na=False, regex=True) "
      ]
    },
    {
      "cell_type": "code",
      "execution_count": null,
      "metadata": {
        "colab": {
          "base_uri": "https://localhost:8080/"
        },
        "id": "1nbJMdjNNDBS",
        "outputId": "7e7e648f-b972-4b8c-9168-a61840e86fbd"
      },
      "outputs": [
        {
          "data": {
            "text/plain": [
              "(1000, 6)"
            ]
          },
          "execution_count": 31,
          "metadata": {},
          "output_type": "execute_result"
        }
      ],
      "source": [
        "dados_reduz.shape"
      ]
    },
    {
      "cell_type": "code",
      "execution_count": null,
      "metadata": {
        "colab": {
          "base_uri": "https://localhost:8080/"
        },
        "id": "Lhz4cg7xN2Bd",
        "outputId": "c7237e69-0dff-45d5-bfd7-fb74db2f8918"
      },
      "outputs": [
        {
          "name": "stdout",
          "output_type": "stream",
          "text": [
            "     ATESTADO  ESC      OCUP  RACACOR  SEXO  IDADE\n",
            "0       False  3.0  999992.0      2.0     2  471.0\n",
            "1       False  5.0  821415.0      4.0     1  461.0\n",
            "2       False  3.0  999992.0      4.0     2  482.0\n",
            "3        True  3.0  999992.0      1.0     2  466.0\n",
            "4       False  4.0  999992.0      4.0     2  466.0\n",
            "..        ...  ...       ...      ...   ...    ...\n",
            "995     False  2.0  999992.0      1.0     2  489.0\n",
            "996     False  1.0       NaN      1.0     1  480.0\n",
            "997      True  NaN       NaN      1.0     2  479.0\n",
            "998     False  4.0  999992.0      1.0     2  484.0\n",
            "999     False  5.0  252105.0      1.0     2  460.0\n",
            "\n",
            "[1000 rows x 6 columns]\n"
          ]
        }
      ],
      "source": [
        "print(dados_reduz)\n"
      ]
    },
    {
      "cell_type": "markdown",
      "metadata": {
        "id": "JKTmja_YDgY1"
      },
      "source": []
    },
    {
      "cell_type": "markdown",
      "metadata": {
        "id": "x1EU9Em3apu5"
      },
      "source": [
        "### Análise de Correlação "
      ]
    },
    {
      "cell_type": "code",
      "execution_count": null,
      "metadata": {
        "colab": {
          "base_uri": "https://localhost:8080/"
        },
        "id": "dlUGoNn2CNNz",
        "outputId": "4ce46b9f-6f2f-47be-99ad-5af49b9e2ee5"
      },
      "outputs": [
        {
          "name": "stdout",
          "output_type": "stream",
          "text": [
            "     ATESTADO  ESC      OCUP  RACACOR  SEXO  IDADE\n",
            "0       False  3.0  999992.0      2.0     2   71.0\n",
            "1       False  5.0  821415.0      4.0     1   61.0\n",
            "2       False  3.0  999992.0      4.0     2   82.0\n",
            "3        True  3.0  999992.0      1.0     2   66.0\n",
            "4       False  4.0  999992.0      4.0     2   66.0\n",
            "..        ...  ...       ...      ...   ...    ...\n",
            "995     False  2.0  999992.0      1.0     2   89.0\n",
            "996     False  1.0       NaN      1.0     1   80.0\n",
            "997      True  NaN       NaN      1.0     2   79.0\n",
            "998     False  4.0  999992.0      1.0     2   84.0\n",
            "999     False  5.0  252105.0      1.0     2   60.0\n",
            "\n",
            "[1000 rows x 6 columns]\n"
          ]
        }
      ],
      "source": [
        "# Atributos para novo DataSet\n",
        "# replace the 'ATESTADO' column contains\n",
        "# Seleciona apenas os CIDs cancer\n",
        "# True and  False:\n",
        "#dados_reduz= dados_reduz[ dados_reduz['ATESTADO'].str.contains('C34|C50|C18|C22|C16', na=False, regex=True) ]\n",
        "#dados_reduz=dados_reduz.loc[0:5,['ATESTADO', 'ESC','OCUP','RACACOR','SEXO','IDADE']]\n",
        "#SUBTRAIR IDADE 400\n",
        "dados_reduz['IDADE']=dados_reduz['IDADE']-400\n",
        "print (dados_reduz)"
      ]
    },
    {
      "cell_type": "markdown",
      "metadata": {
        "id": "e3k1IrHCWijE"
      },
      "source": [
        "Usei duas funções para ver os campos nulos e tratar esses campos"
      ]
    },
    {
      "cell_type": "markdown",
      "metadata": {
        "id": "nZmSVPrWeFNY"
      },
      "source": [
        "# Árvore de Decisão \n",
        "\n",
        "* ATESTADO = CIDs informados no atestado. (Códigos CID 10)\n",
        "* CID B34.2 – INFECÇÃO POR CORONAVÍRUS DE LOCALIZAÇÃO NÃO ESPECIFICADA\n",
        "* IDADE\n",
        "* INSTRUCAO = Instrução, conforme a tabela: 1979 (C 9)\n",
        " * 0: Ignorado\n",
        " *1: Nenhuma\n",
        " *2: Primeiro grau\n",
        " *3: Segundo grau\n",
        " *4: Superior\n",
        "* OCUPACAO =Ocupação, conforme a Classificação Brasileira de Ocupações (CBO)\n",
        "* RACACOR =Cor informada pelo responsável pelas informações do falecido. (1 – Branca; 2\n",
        "– Preta; 3 – Amarela; 4 – Parda; 5 – Indígena)\n",
        "* SEXO =Sexo do falecido. “Ignorado” selecionada em casos especiais como cadáveres mutilados, em estado avançado de decomposição, genitália indefinida ou hermafroditismo. (M – masculino; F – feminino; I - ignorado)\n",
        "\n",
        "\n",
        "\n"
      ]
    },
    {
      "cell_type": "markdown",
      "metadata": {
        "id": "zBTkTerOGvXf"
      },
      "source": [
        "C34 - Neoplasia Maligna dos Brônquios e dos Pulmões\n",
        "C18 Neoplasia maligna do cólon\n",
        "C22 - Neoplasia maligna do fígado e das vias biliares intra-hepáticas\n",
        "C16 - Neoplasia maligna do estômago\n",
        "C50 – Neoplasia Maligna da Mama"
      ]
    }
  ],
  "metadata": {
    "colab": {
      "collapsed_sections": [
        "nZmSVPrWeFNY"
      ],
      "provenance": [],
      "toc_visible": true,
      "include_colab_link": true
    },
    "kernelspec": {
      "display_name": "Python 3",
      "name": "python3"
    }
  },
  "nbformat": 4,
  "nbformat_minor": 0
}